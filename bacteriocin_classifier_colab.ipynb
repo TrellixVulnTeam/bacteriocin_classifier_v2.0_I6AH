{
  "nbformat": 4,
  "nbformat_minor": 0,
  "metadata": {
    "colab": {
      "name": "bacteriocin_classifier_colab.ipynb",
      "provenance": [],
      "collapsed_sections": []
    },
    "kernelspec": {
      "name": "python3",
      "display_name": "Python 3"
    }
  },
  "cells": [
    {
      "cell_type": "code",
      "metadata": {
        "id": "rxa3Dl2gHTo7",
        "colab_type": "code",
        "outputId": "44fc58e0-f021-4f1e-e54c-ab866dc62561",
        "colab": {
          "base_uri": "https://localhost:8080/",
          "height": 143
        }
      },
      "source": [
        "!git clone https://github.com/lassebuurrasmussen/bacteriocin_classifier_v2.0"
      ],
      "execution_count": 58,
      "outputs": [
        {
          "output_type": "stream",
          "text": [
            "Cloning into 'bacteriocin_classifier_v2.0'...\n",
            "remote: Enumerating objects: 21, done.\u001b[K\n",
            "remote: Counting objects:   4% (1/21)\u001b[K\rremote: Counting objects:   9% (2/21)\u001b[K\rremote: Counting objects:  14% (3/21)\u001b[K\rremote: Counting objects:  19% (4/21)\u001b[K\rremote: Counting objects:  23% (5/21)\u001b[K\rremote: Counting objects:  28% (6/21)\u001b[K\rremote: Counting objects:  33% (7/21)\u001b[K\rremote: Counting objects:  38% (8/21)\u001b[K\rremote: Counting objects:  42% (9/21)\u001b[K\rremote: Counting objects:  47% (10/21)\u001b[K\rremote: Counting objects:  52% (11/21)\u001b[K\rremote: Counting objects:  57% (12/21)\u001b[K\rremote: Counting objects:  61% (13/21)\u001b[K\rremote: Counting objects:  66% (14/21)\u001b[K\rremote: Counting objects:  71% (15/21)\u001b[K\rremote: Counting objects:  76% (16/21)\u001b[K\rremote: Counting objects:  80% (17/21)\u001b[K\rremote: Counting objects:  85% (18/21)\u001b[K\rremote: Counting objects:  90% (19/21)\u001b[K\rremote: Counting objects:  95% (20/21)\u001b[K\rremote: Counting objects: 100% (21/21)\u001b[K\rremote: Counting objects: 100% (21/21), done.\u001b[K\n",
            "remote: Compressing objects: 100% (13/13), done.\u001b[K\n",
            "remote: Total 1432 (delta 10), reused 18 (delta 8), pack-reused 1411\u001b[K\n",
            "Receiving objects: 100% (1432/1432), 48.31 MiB | 24.42 MiB/s, done.\n",
            "Resolving deltas: 100% (137/137), done.\n"
          ],
          "name": "stdout"
        }
      ]
    },
    {
      "cell_type": "code",
      "metadata": {
        "id": "uGg3IwAQHlmy",
        "colab_type": "code",
        "colab": {}
      },
      "source": [
        "import os\n",
        "os.chdir(\"bacteriocin_classifier_v2.0\")"
      ],
      "execution_count": 0,
      "outputs": []
    },
    {
      "cell_type": "code",
      "metadata": {
        "id": "Fuua9CMBkU1N",
        "colab_type": "code",
        "colab": {}
      },
      "source": [
        "!pip install -q biopython overrides flask_cors numpydoc jsonpickle pytorch_transformers ftfy \\\n",
        "pytorch_pretrained_bert word2number conllu tensorboardX"
      ],
      "execution_count": 0,
      "outputs": []
    },
    {
      "cell_type": "code",
      "metadata": {
        "id": "42tYXnbtpybT",
        "colab_type": "code",
        "colab": {
          "base_uri": "https://localhost:8080/",
          "height": 53
        },
        "outputId": "62308ff8-0119-4636-e216-4fda324bf60f"
      },
      "source": [
        "%run download_weights.py"
      ],
      "execution_count": 61,
      "outputs": [
        {
          "output_type": "stream",
          "text": [
            "Downloading elmo_model_uniref50/seqvec.zip..\n",
            "Unzipping elmo_model_uniref50/seqvec.zip..\n"
          ],
          "name": "stdout"
        }
      ]
    },
    {
      "cell_type": "code",
      "metadata": {
        "id": "pmucC5Nn9JNl",
        "colab_type": "code",
        "colab": {
          "base_uri": "https://localhost:8080/",
          "height": 125
        },
        "outputId": "1b19897a-0ad1-4e74-dfcd-0508adbeab1e"
      },
      "source": [
        "%run main.py"
      ],
      "execution_count": 62,
      "outputs": [
        {
          "output_type": "stream",
          "text": [
            "No cuda device specified. Using cuda device -1\n",
            "No input fasta file specified. Using ./test_data/sample_fasta.faa\n",
            "No output path specified. Using ./results.csv\n",
            "Embedding sequences..\n",
            "Predicting sequences..\n",
            "Took 0.3179142475128174 seconds\n"
          ],
          "name": "stdout"
        }
      ]
    },
    {
      "cell_type": "code",
      "metadata": {
        "id": "l-YIjF7-BUnM",
        "colab_type": "code",
        "colab": {
          "base_uri": "https://localhost:8080/",
          "height": 179
        },
        "outputId": "13b84637-6998-4292-a998-ed2d7fa1525c"
      },
      "source": [
        "!cat results.csv"
      ],
      "execution_count": 63,
      "outputs": [
        {
          "output_type": "stream",
          "text": [
            ",not_bacteriocin_score,bacteriocin_score\n",
            "0,9.561931e-05,0.9851105\n",
            "1,9.561931e-05,0.9851105\n",
            "2,9.561931e-05,0.9851105\n",
            "3,9.561931e-05,0.9851105\n",
            "4,9.561931e-05,0.9851105\n",
            "5,7.268058e-05,0.97269386\n",
            "6,9.561931e-05,0.9851105\n",
            "7,3.0281843e-05,0.9125791\n"
          ],
          "name": "stdout"
        }
      ]
    },
    {
      "cell_type": "code",
      "metadata": {
        "id": "0oUcuowIqe9-",
        "colab_type": "code",
        "colab": {}
      },
      "source": [
        "# import os\n",
        "# os.getcwd()\n",
        "# os.listdir()\n",
        "# os.chdir(\"../\")\n",
        "# !rm -rf bacteriocin_classifier_v2.0"
      ],
      "execution_count": 0,
      "outputs": []
    }
  ]
}