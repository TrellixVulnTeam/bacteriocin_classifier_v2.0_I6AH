{
  "nbformat": 4,
  "nbformat_minor": 0,
  "metadata": {
    "accelerator": "GPU",
    "colab": {
      "name": "bacteriocin_classifier_colab.ipynb",
      "provenance": [],
      "collapsed_sections": [],
      "machine_shape": "hm"
    },
    "kernelspec": {
      "display_name": "Python 3",
      "language": "python",
      "name": "python3"
    },
    "language_info": {
      "codemirror_mode": {
        "name": "ipython",
        "version": 3
      },
      "file_extension": ".py",
      "mimetype": "text/x-python",
      "name": "python",
      "nbconvert_exporter": "python",
      "pygments_lexer": "ipython3",
      "version": "3.7.3"
    }
  },
  "cells": [
    {
      "cell_type": "code",
      "metadata": {
        "colab_type": "code",
        "id": "rxa3Dl2gHTo7",
        "colab": {}
      },
      "source": [
        "# To get a session with GPU, go to Runtime > Change runtime type > and choose GPU as hardware accelerator\n",
        "# This cell clones the git, install dependencies and acquires network weights.\n",
        "!git clone https://github.com/lassebuurrasmussen/bacteriocin_classifier_v2.0\n",
        "\n",
        "!pip install -q biopython overrides flask_cors numpydoc jsonpickle pytorch_transformers ftfy \\\n",
        "pytorch_pretrained_bert word2number conllu tensorboardX\n",
        "\n",
        "import os\n",
        "os.chdir(\"bacteriocin_classifier_v2.0\")\n",
        "\n",
        "%run download_weights.py\n"
      ],
      "execution_count": 0,
      "outputs": []
    },
    {
      "cell_type": "code",
      "metadata": {
        "colab_type": "code",
        "id": "G4zBWLECtO0l",
        "colab": {}
      },
      "source": [
        "# Please run til cell to upload your fasta file.\n",
        "# This is a little unstable, os if it crashes, run it one more time\n",
        "from google.colab import files\n",
        "\n",
        "files.upload()"
      ],
      "execution_count": 0,
      "outputs": []
    },
    {
      "cell_type": "code",
      "metadata": {
        "colab_type": "code",
        "id": "pmucC5Nn9JNl",
        "colab": {}
      },
      "source": [
        "# Insert the name of your input fasta file and desired output file before running this cell\n",
        "INPUT_FILE_NAME = \"sample_fasta.faa\"\n",
        "OUTPUT_FILE_NAME = \"results.csv\"\n",
        "\n",
        "%run main.py -f $INPUT_FILE_NAME -o $OUTPUT_FILE_NAME\n",
        "\n",
        "time.sleep(3)  # Ensure that file is ready to be downloaded\n",
        "files.download(OUTPUT_FILE_NAME)"
      ],
      "execution_count": 0,
      "outputs": []
    },
    {
      "cell_type": "code",
      "metadata": {
        "colab_type": "code",
        "id": "0oUcuowIqe9-",
        "colab": {}
      },
      "source": [
        "# Finally, clean up notebook disk\n",
        "while 'bacteriocin_classifier_v2.0' in os.listdir(\"../\"):\n",
        "    os.chdir(\"../\")\n",
        "    !rm -rf bacteriocin_classifier_v2.0\n",
        "print(os.getcwd(), os.listdir())"
      ],
      "execution_count": 0,
      "outputs": []
    }
  ]
}